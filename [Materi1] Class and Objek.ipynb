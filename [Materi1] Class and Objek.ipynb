{
 "cells": [
  {
   "cell_type": "markdown",
   "metadata": {},
   "source": [
    "# Class & Object"
   ]
  },
  {
   "cell_type": "markdown",
   "metadata": {},
   "source": [
    "## Objek"
   ]
  },
  {
   "cell_type": "markdown",
   "metadata": {},
   "source": [
    "Objek adalah sesuatu yang diciptakan dari class, ia memiliki atribut(apa yang dipunya objek ini) dan method/fungsi(apa yang bisa ia lakukan).\n",
    "contoh: Dari class buah-buahan kita dapat membuat object mangga, pisang, apel, dll."
   ]
  },
  {
   "cell_type": "markdown",
   "metadata": {},
   "source": [
    "## Class "
   ]
  },
  {
   "cell_type": "markdown",
   "metadata": {},
   "source": [
    "Sedangan class adalah prototype, atau blueprint, atau rancangan yang mendefinisikan variable dan method\" pada object tertentu, class hanya difungsikan sebagai wadah/penampung Untuk isi dari Objek atau program tersebut."
   ]
  },
  {
   "cell_type": "markdown",
   "metadata": {},
   "source": [
    "### Perbedaan Class dan Objek"
   ]
  },
  {
   "cell_type": "markdown",
   "metadata": {},
   "source": [
    "Class Tidak bisa beroperasi tanpa adanya objek, dan objek merupakan intasnsi class pada method-method tertentu. Jadi pada setiap class diharuskan ada Sebuah Objek."
   ]
  },
  {
   "cell_type": "markdown",
   "metadata": {},
   "source": [
    "Contoh Class :"
   ]
  },
  {
   "cell_type": "code",
   "execution_count": 40,
   "metadata": {},
   "outputs": [
    {
     "name": "stdout",
     "output_type": "stream",
     "text": [
      "Nama-Nama buah =  \n",
      "-Mangga \n",
      "-Pisang \n",
      "-Apel\n"
     ]
    }
   ],
   "source": [
    "class Buah:               \n",
    "    def __init__(self,nama_buah):\n",
    "        self.nama=nama_buah\n",
    "    def tampilkan(self):\n",
    "        print('Nama-Nama buah = ',self.nama)\n",
    "c1=Buah(\"\\n-Mangga \\n-Pisang \\n-Apel\")\n",
    "c1.tampilkan()"
   ]
  },
  {
   "cell_type": "markdown",
   "metadata": {},
   "source": [
    "Contoh Class Pada Mahasiswa :"
   ]
  },
  {
   "cell_type": "code",
   "execution_count": 39,
   "metadata": {},
   "outputs": [
    {
     "name": "stdout",
     "output_type": "stream",
     "text": [
      "Selamat, 170411100075 Atas nama Fadlul Anda Layak menerima BidikMisi, Ipk Anda = 3.6\n"
     ]
    }
   ],
   "source": [
    "class Mahasiswa:\n",
    "    def __init__(self,nim,nama,ipk):\n",
    "        self.nim=nim\n",
    "        self.nama=nama\n",
    "        self.ipk=ipk\n",
    "    def Ipk(self):\n",
    "        if self.ipk >= 3:\n",
    "            print(\"Selamat,\",self.nim,\"Atas nama\",self.nama,\"Anda Layak menerima BidikMisi, Ipk Anda =\" ,self.ipk)\n",
    "        else:\n",
    "            print(\"Maaf,\" ,self.nama, \" anda Tidak Layak mendapatkan BidikMisi. Ipk anda\",self.ipk)\n",
    "m1=Mahasiswa(170411100075,\"Fadlul\",3.60)\n",
    "m1.Ipk()"
   ]
  },
  {
   "cell_type": "markdown",
   "metadata": {},
   "source": [
    "### Tugas"
   ]
  },
  {
   "cell_type": "markdown",
   "metadata": {},
   "source": [
    "Buat 2 class saling berhubungan\n",
    "\n",
    "nasabah:\n",
    "Properti = Nama, Alamat, dan nomer rekening\n",
    "Rekening:\n",
    "Properti = no rekening, saldo\n",
    "\n",
    "Method: Tambah rekening, Ambil Rekening\n",
    "\n",
    "Tugas class:\n",
    "simulasikan dia melakukan transaksi cetak rekening Mengambil, Menabung, Cetak Rekening saldonya\n",
    "yg ditampilkan Properti + Saldo"
   ]
  }
 ],
 "metadata": {
  "kernelspec": {
   "display_name": "Python 3",
   "language": "python",
   "name": "python3"
  },
  "language_info": {
   "codemirror_mode": {
    "name": "ipython",
    "version": 3
   },
   "file_extension": ".py",
   "mimetype": "text/x-python",
   "name": "python",
   "nbconvert_exporter": "python",
   "pygments_lexer": "ipython3",
   "version": "3.6.5"
  }
 },
 "nbformat": 4,
 "nbformat_minor": 2
}
