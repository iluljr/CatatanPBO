{
 "cells": [
  {
   "cell_type": "markdown",
   "metadata": {},
   "source": [
    "# Encapsulation"
   ]
  },
  {
   "cell_type": "markdown",
   "metadata": {},
   "source": [
    "Encapsulation adalah mekanisme untuk menyembunyikan / Memproteksi suatu proses agar tidak Terjadi penyalahgunaan Di luar sistemnya. atau \n",
    "merupakan suatu mekanisme untuk menyembunyikan / memproteksi suatu proses dari kemungkinan interferensi atau penyalahgunaan dari luar system dan sekaligus menyederhanakan pengunaan dari luar system dan sekaligus menyederhanakan penggunaan system tersebut.\n",
    "\t"
   ]
  },
  {
   "cell_type": "markdown",
   "metadata": {},
   "source": [
    "Contoh dalam kehidupan sehari- hari adalah ketika kita ingin menjalankan sebuah mobil, yang kita tahu hanyalah menekan pedal gas, padahal setelah pedal gas ditekan terjadilah proses yang kompleks & rumit sehingga roda itu dapat berputar yang akhirnya mobil dapat berjalan."
   ]
  },
  {
   "cell_type": "code",
   "execution_count": 1,
   "metadata": {},
   "outputs": [
    {
     "name": "stdout",
     "output_type": "stream",
     "text": [
      "1\n",
      "2\n"
     ]
    },
    {
     "ename": "AttributeError",
     "evalue": "'robot' object has no attribute '__c'",
     "output_type": "error",
     "traceback": [
      "\u001b[1;31m---------------------------------------------------------------------------\u001b[0m",
      "\u001b[1;31mAttributeError\u001b[0m                            Traceback (most recent call last)",
      "\u001b[1;32m<ipython-input-1-bf7a1cc3b507>\u001b[0m in \u001b[0;36m<module>\u001b[1;34m()\u001b[0m\n\u001b[0;32m      7\u001b[0m \u001b[0mprint\u001b[0m\u001b[1;33m(\u001b[0m\u001b[0mobj\u001b[0m\u001b[1;33m.\u001b[0m\u001b[0ma\u001b[0m\u001b[1;33m)\u001b[0m\u001b[1;33m\u001b[0m\u001b[0m\n\u001b[0;32m      8\u001b[0m \u001b[0mprint\u001b[0m\u001b[1;33m(\u001b[0m\u001b[0mobj\u001b[0m\u001b[1;33m.\u001b[0m\u001b[0m_b\u001b[0m\u001b[1;33m)\u001b[0m\u001b[1;33m\u001b[0m\u001b[0m\n\u001b[1;32m----> 9\u001b[1;33m \u001b[0mprint\u001b[0m\u001b[1;33m(\u001b[0m\u001b[0mobj\u001b[0m\u001b[1;33m.\u001b[0m\u001b[0m__c\u001b[0m\u001b[1;33m)\u001b[0m\u001b[1;33m\u001b[0m\u001b[0m\n\u001b[0m",
      "\u001b[1;31mAttributeError\u001b[0m: 'robot' object has no attribute '__c'"
     ]
    }
   ],
   "source": [
    "class robot:\n",
    "    def __init__(self):\n",
    "        self.a=1\n",
    "        self._b=2\n",
    "        self.__c=3\n",
    "obj=robot()\n",
    "print(obj.a)\n",
    "print(obj._b)\n",
    "print(obj.__c)"
   ]
  },
  {
   "cell_type": "markdown",
   "metadata": {},
   "source": [
    "Jadi Mengapa pemanggialan Variabel C Error?"
   ]
  },
  {
   "cell_type": "markdown",
   "metadata": {},
   "source": [
    "a. Karena Kalau Dua underscore sebelum variable, menandakan sebuah variabel private, tidak bisa diakses secara langsung dan membutuhkan Method khusus untuk mengelolanya.\n",
    "b. Jika satu Underscore sebelum variabelnya, menandakan Sebuah variabel Privat seharusnya tidak diakses secara langsung, tetapi masih bisa dipaksakan untuk diakses."
   ]
  },
  {
   "cell_type": "markdown",
   "metadata": {},
   "source": [
    "##  Metode Getter dan Setter"
   ]
  },
  {
   "cell_type": "markdown",
   "metadata": {},
   "source": [
    "    Dengan Metode Ini, variable privat bisa diakses dengan menggunakan akses secara tidak langsung kepada variable privat. \n",
    "\n",
    "    Getter Ialah Metode yang digunakan untuk menampilkan Variabel yang Terproteksi dua Underscore didepannya\n",
    "    Sedangkan Setter adalah Metode yang berguna untuk mengubah isi dari variabelnya."
   ]
  },
  {
   "cell_type": "code",
   "execution_count": 8,
   "metadata": {},
   "outputs": [
    {
     "name": "stdout",
     "output_type": "stream",
     "text": [
      "3\n",
      "Variabel C  Telah dirubah\n"
     ]
    }
   ],
   "source": [
    "class robot:\n",
    "    def __init__(self):\n",
    "        self.a=1\n",
    "        self._b=2\n",
    "        self.__c=3\n",
    "    def getter(self):\n",
    "        print(self.__c)\n",
    "    def setter(self,arg):\n",
    "        self.__c=arg\n",
    "obj=robot()\n",
    "obj.getter()\n",
    "obj.setter(\"Variabel C  Telah dirubah\")\n",
    "obj.getter()"
   ]
  },
  {
   "cell_type": "markdown",
   "metadata": {},
   "source": [
    "Contoh 2:"
   ]
  },
  {
   "cell_type": "code",
   "execution_count": 9,
   "metadata": {},
   "outputs": [
    {
     "name": "stdout",
     "output_type": "stream",
     "text": [
      "Saya\n",
      "Dia\n"
     ]
    }
   ],
   "source": [
    "class oj:\n",
    "    def __init__(self):#variable encapsulation\n",
    "        self.__obj=\"Saya\"\n",
    "    def __update(self):\n",
    "        print(self.__obj)\n",
    "    def getter(self):\n",
    "        print(self.__obj)\n",
    "    def setter(self,saya): #atribute private\n",
    "        self.__obj=saya\n",
    "\n",
    "data=oj()\n",
    "data._oj__update()\n",
    "data.setter(\"Dia\")\n",
    "data.getter()"
   ]
  }
 ],
 "metadata": {
  "kernelspec": {
   "display_name": "Python 3",
   "language": "python",
   "name": "python3"
  },
  "language_info": {
   "codemirror_mode": {
    "name": "ipython",
    "version": 3
   },
   "file_extension": ".py",
   "mimetype": "text/x-python",
   "name": "python",
   "nbconvert_exporter": "python",
   "pygments_lexer": "ipython3",
   "version": "3.6.5"
  }
 },
 "nbformat": 4,
 "nbformat_minor": 2
}
