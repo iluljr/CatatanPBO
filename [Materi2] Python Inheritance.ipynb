{
 "cells": [
  {
   "cell_type": "markdown",
   "metadata": {},
   "source": [
    "# Python Inheritance"
   ]
  },
  {
   "cell_type": "markdown",
   "metadata": {},
   "source": [
    "Inheritance adalah pewarisan class kepada class lain dari class induk ke sub classnya, sehingga class yang menerima warisan bisa mengakses properti & Method pada class yang mewariskan. \n",
    "\n",
    "Namun, induk classnya tak bisa mengakses properti anaknya(class yang menerimawarisan)"
   ]
  },
  {
   "cell_type": "code",
   "execution_count": 6,
   "metadata": {},
   "outputs": [
    {
     "name": "stdout",
     "output_type": "stream",
     "text": [
      "First Name:  IlulJr\n",
      "\n",
      "First Name:  \n",
      "Last Name:  NeileasJr\n",
      "\n",
      "First Name:  IlulJr\n",
      "Last Name:  NeileasJr\n"
     ]
    }
   ],
   "source": [
    "class User:\n",
    "    firstname=\"\"\n",
    "    def __init__(self,firstname):\n",
    "        self.firstname=firstname\n",
    "    def printfirstname(self):\n",
    "        print(\"First Name: \",self.firstname)\n",
    "    def printfirst2name(self,nama2):\n",
    "        objek=[]\n",
    "        objek.append(nama2)\n",
    "        self.firstname = \"IlulJr\"\n",
    "class Programer(User):\n",
    "    def __init__(self,lastname):\n",
    "        self.lastname=lastname\n",
    "    def printlastname(self):\n",
    "        print(\"Last Name: \",self.lastname)\n",
    "    \n",
    "\n",
    "nick=User(\"IlulJr\")\n",
    "nick.printfirstname()\n",
    "print(\"\")\n",
    "nick_name=Programer(\"NeileasJr\")\n",
    "nick_name.printfirstsname()#belum teridentifikasi nama\n",
    "nick_name.printlastname()\n",
    "print(\"\")\n",
    "nick_name.printfirst2name(\"\")\n",
    "nick_name.printfirstname()#sudah teridentifikasi\n",
    "nick_name.printlastname()"
   ]
  },
  {
   "cell_type": "code",
   "execution_count": 11,
   "metadata": {},
   "outputs": [
    {
     "name": "stdout",
     "output_type": "stream",
     "text": [
      "First Name:  IlulJr\n"
     ]
    }
   ],
   "source": [
    "class tambahan(User):\n",
    "    pass\n",
    "a=tambahan(\"IlulJr\")\n",
    "a.printfirstname()"
   ]
  },
  {
   "cell_type": "markdown",
   "metadata": {},
   "source": [
    "pass = sama seperti induk classnya"
   ]
  },
  {
   "cell_type": "markdown",
   "metadata": {},
   "source": [
    "### Tugas"
   ]
  },
  {
   "cell_type": "code",
   "execution_count": null,
   "metadata": {},
   "outputs": [],
   "source": [
    "#Kelas Orang\n",
    "#properti Nama\n",
    "#subclass Orang:Mahasiswa & Pegawai\n",
    "            #properti mhs : Npm\n",
    "            #properti pegawai : Nip\n",
    "#subclass pegawai : Dosen & Karyawan\n",
    "            #properti dosen :nidn\n",
    "\n",
    "#Tugas :\n",
    "#print dosen > Kelas Dosen > Nama, Nip,Nidn\n",
    "#print karyawan > kelas Karyawan > Nama, Nip"
   ]
  }
 ],
 "metadata": {
  "kernelspec": {
   "display_name": "Python 3",
   "language": "python",
   "name": "python3"
  },
  "language_info": {
   "codemirror_mode": {
    "name": "ipython",
    "version": 3
   },
   "file_extension": ".py",
   "mimetype": "text/x-python",
   "name": "python",
   "nbconvert_exporter": "python",
   "pygments_lexer": "ipython3",
   "version": "3.6.5"
  }
 },
 "nbformat": 4,
 "nbformat_minor": 2
}
