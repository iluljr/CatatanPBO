{
 "cells": [
  {
   "cell_type": "markdown",
   "metadata": {},
   "source": [
    "# Overloading Method & Operator Overloading"
   ]
  },
  {
   "cell_type": "markdown",
   "metadata": {},
   "source": [
    "Overloading adalah pemakaian beberapa methods ataupun properties dengan nama yang sama, tetapi memiliki daftar parameter/argument yang berbeda."
   ]
  },
  {
   "cell_type": "markdown",
   "metadata": {},
   "source": [
    "## Overloading Method"
   ]
  },
  {
   "cell_type": "markdown",
   "metadata": {},
   "source": [
    "Overloading method ialah method yangmengeksekusi berdasarkan jumlah parameter yang diinputkan, Beda jumlah parameter maka berbeda pula method yg ditampilkan.\n",
    "atau sebuah kemampuan yang membolehkan sebuah class mempunyai 2 atau lebih method dengan nama yang sama, yang membedakan adalah parameternya."
   ]
  },
  {
   "cell_type": "code",
   "execution_count": 3,
   "metadata": {},
   "outputs": [
    {
     "name": "stdout",
     "output_type": "stream",
     "text": [
      "data = Kosong\n",
      "Ini hanya Menampilkan data =  A\n"
     ]
    }
   ],
   "source": [
    "class obj:\n",
    "    def tampil(self,data=None):\n",
    "        if data is not None:\n",
    "            print('Ini hanya Menampilkan data = ',data)\n",
    "        else:\n",
    "            print('data = Kosong')\n",
    "a=obj()\n",
    "a.tampil()\n",
    "a.tampil('A')"
   ]
  },
  {
   "cell_type": "markdown",
   "metadata": {},
   "source": [
    "## Operator Overloading"
   ]
  },
  {
   "cell_type": "markdown",
   "metadata": {},
   "source": [
    "Operator Overoading Namanya sama tapi mempunyai parameter yang berbeda. atau, \n",
    "Keyword Overloading adalah Keyword yang dipakai adalah Overloads. Jika dalam satu class, keyword ini bersifat optional artinya kita tidak harus menambahkan keyword Overloads ketika mendefinisikan beberapa methods ataupun properties yang menerapkan konsep overloading. Apabila kita tetap ingin memakainya, maka keyword Overloads harus digunakan di semua methods ataupun properties tadi. Apabila beda class, keyword Overloads ini harus digunakan."
   ]
  },
  {
   "cell_type": "code",
   "execution_count": 4,
   "metadata": {},
   "outputs": [
    {
     "name": "stdout",
     "output_type": "stream",
     "text": [
      "Point This Object is at: (3,6)\n"
     ]
    }
   ],
   "source": [
    "class point:\n",
    "    def __init__(self,x=0,y=0):\n",
    "        self.x=x\n",
    "        self.y=y\n",
    "    def __str__(self):\n",
    "        return 'Point This Object is at: ('+str(self.x)+','+str(self.y)+')'\n",
    "    def __add__(self,other):\n",
    "        x=self.x+other.x\n",
    "        y=self.y+other.y\n",
    "        return point(x,y)\n",
    "p1=point(1,2)\n",
    "p2=point(2,4)\n",
    "print(p1+p2)"
   ]
  },
  {
   "cell_type": "markdown",
   "metadata": {},
   "source": [
    "Contoh 2:"
   ]
  },
  {
   "cell_type": "code",
   "execution_count": 8,
   "metadata": {},
   "outputs": [
    {
     "name": "stdout",
     "output_type": "stream",
     "text": [
      "Vektor (5, 4)\n",
      "Vektor (7, -2)\n",
      "Vektor (12, 2)\n"
     ]
    }
   ],
   "source": [
    "class Vektor:\n",
    "    def __init__(self, a, b):\n",
    "        self.a = a\n",
    "        self.b = b\n",
    "\n",
    "    def __str__(self):\n",
    "        return 'Vektor (%d, %d)' % (self.a, self.b)\n",
    "\n",
    "    def __add__(self, other):\n",
    "        return Vektor(self.a + other.a, self.b + other.b)\n",
    "\n",
    "v1 = Vektor (5,4)\n",
    "v2 = Vektor (7, -2)\n",
    "\n",
    "print (v1)\n",
    "print (v2)\n",
    "\n",
    "print (v1 + v2)"
   ]
  },
  {
   "cell_type": "code",
   "execution_count": 34,
   "metadata": {},
   "outputs": [
    {
     "name": "stdout",
     "output_type": "stream",
     "text": [
      ">>> Luas Persegi\n",
      "Jarak X = 6\n",
      "Jarak Y = 7\n",
      "Luas = 42\n"
     ]
    }
   ],
   "source": [
    "#Menghitung Luas\n",
    "class point:\n",
    "    def __init__(self,x=0,y=0):\n",
    "        self.x=x\n",
    "        self.y=y\n",
    "    def __str__(self):\n",
    "        return '>>> Luas Persegi\\n'+'Jarak X = '+str(self.x)+'\\nJarak Y = '+str(self.y)+'\\nLuas = '+str(self.x*self.y)\n",
    "    def __sub__(self,other):\n",
    "        if self.x< other.x:\n",
    "             x=other.x-self.x\n",
    "        elif self.x > other.x:\n",
    "             x=self.x-other.x\n",
    "        if self.y < other.y:\n",
    "            y=other.y-self.y\n",
    "        elif self.y>other.y:\n",
    "            y=self.y-other.y\n",
    "        return point(x,y)\n",
    "p1=point(8,2)\n",
    "p2=point(2,9)\n",
    "print(p1-p2)"
   ]
  },
  {
   "cell_type": "code",
   "execution_count": null,
   "metadata": {},
   "outputs": [],
   "source": []
  }
 ],
 "metadata": {
  "kernelspec": {
   "display_name": "Python 3",
   "language": "python",
   "name": "python3"
  },
  "language_info": {
   "codemirror_mode": {
    "name": "ipython",
    "version": 3
   },
   "file_extension": ".py",
   "mimetype": "text/x-python",
   "name": "python",
   "nbconvert_exporter": "python",
   "pygments_lexer": "ipython3",
   "version": "3.6.5"
  }
 },
 "nbformat": 4,
 "nbformat_minor": 2
}
