{
 "cells": [
  {
   "cell_type": "markdown",
   "metadata": {},
   "source": [
    "# Polymorphism"
   ]
  },
  {
   "cell_type": "markdown",
   "metadata": {},
   "source": [
    "Polymorphism berasal dari kata Poly(Banyak), dan Morphism(Bentuk). Jadi Polimorphism bermakna 'Sesuatu yang memiliki bnyak isi yang berbeda'(Multi-Fungsi). Polymorphism merupakan suatu aksi yang memungkinkan program menyampaikan suatu pesan tertentu dari hieraki objeknya, dimana suatu objek tersebut yang berbeda memberikan tanggapan atau respon terhadap pesan yang sama sesuai dengan sifat masing\" objek."
   ]
  },
  {
   "cell_type": "markdown",
   "metadata": {},
   "source": [
    "## a. PolyMorphism pada Function"
   ]
  },
  {
   "cell_type": "markdown",
   "metadata": {},
   "source": [
    "Polymorphism hampir serupa dengan Overriding, Berikut Contoh Codenya :"
   ]
  },
  {
   "cell_type": "code",
   "execution_count": 2,
   "metadata": {},
   "outputs": [
    {
     "name": "stdout",
     "output_type": "stream",
     "text": [
      "Tomat merupakan buah-buahan\n",
      "tomat merupakan sayuran\n"
     ]
    }
   ],
   "source": [
    "class buah:\n",
    "    def tomat(self):\n",
    "        print(\"Tomat merupakan buah-buahan\")\n",
    "class sayur:\n",
    "    def tomat(self):\n",
    "        print(\"tomat merupakan sayuran\")\n",
    "lizard=buah()\n",
    "lizard.tomat() #Ini polimorphism\n",
    "\n",
    "viper=sayur()\n",
    "viper.tomat() #Isinya Berbeda"
   ]
  },
  {
   "cell_type": "markdown",
   "metadata": {},
   "source": [
    "Cara lain penulisan Syntax Polymorphism :"
   ]
  },
  {
   "cell_type": "code",
   "execution_count": 4,
   "metadata": {},
   "outputs": [
    {
     "name": "stdout",
     "output_type": "stream",
     "text": [
      "Tomat merupakan buah-buahan\n",
      "tomat merupakan sayuran\n"
     ]
    }
   ],
   "source": [
    "class buah:\n",
    "    def tomat(self):\n",
    "        print(\"Tomat merupakan buah-buahan\")\n",
    "class sayur:\n",
    "    def tomat(self):\n",
    "        print(\"tomat merupakan sayuran\")\n",
    "def polymorph(argumen):\n",
    "    argumen.tomat()\n",
    "        \n",
    "jenis1=buah()\n",
    "jenis2=sayur()\n",
    "\n",
    "polymorph(jenis1)  #ini Polymorph\n",
    "polymorph(jenis2)"
   ]
  },
  {
   "cell_type": "markdown",
   "metadata": {},
   "source": [
    "## b. Polymorphism pada class"
   ]
  },
  {
   "cell_type": "markdown",
   "metadata": {},
   "source": [
    "Contoh Penulisan Syntax pada Polymorphism tingkat class :"
   ]
  },
  {
   "cell_type": "code",
   "execution_count": 6,
   "metadata": {},
   "outputs": [
    {
     "name": "stdout",
     "output_type": "stream",
     "text": [
      "Tomat merupakan buah-buahan\n",
      "tomat merupakan sayuran\n"
     ]
    }
   ],
   "source": [
    "for i in (jenis1,jenis2):\n",
    "    i.tomat()"
   ]
  },
  {
   "cell_type": "markdown",
   "metadata": {},
   "source": [
    "Contoh Lain:"
   ]
  },
  {
   "cell_type": "code",
   "execution_count": 7,
   "metadata": {},
   "outputs": [
    {
     "name": "stdout",
     "output_type": "stream",
     "text": [
      "Scan Piagam  :  Show pdf content\n",
      "Python - Inheritance  :  Show word content\n",
      "CodeBlockk - Part 4  :  Show pdf content\n"
     ]
    }
   ],
   "source": [
    "class docu:\n",
    "    def __init__(self,tipe):\n",
    "        self.tipe=tipe\n",
    "class pdf(docu):\n",
    "    def show(self):\n",
    "        return \"Show pdf content\"\n",
    "class word(docu):\n",
    "    def show(self):\n",
    "        return \"Show word content\"\n",
    "\n",
    "document=(pdf(\"Scan Piagam\"),word(\"Python - Inheritance\"),pdf(\"CodeBlockk - Part 4\"))\n",
    "for i in document:\n",
    "    print(i.tipe,\" : \",i.show())"
   ]
  },
  {
   "cell_type": "code",
   "execution_count": null,
   "metadata": {},
   "outputs": [],
   "source": []
  }
 ],
 "metadata": {
  "kernelspec": {
   "display_name": "Python 3",
   "language": "python",
   "name": "python3"
  },
  "language_info": {
   "codemirror_mode": {
    "name": "ipython",
    "version": 3
   },
   "file_extension": ".py",
   "mimetype": "text/x-python",
   "name": "python",
   "nbconvert_exporter": "python",
   "pygments_lexer": "ipython3",
   "version": "3.6.5"
  }
 },
 "nbformat": 4,
 "nbformat_minor": 2
}
