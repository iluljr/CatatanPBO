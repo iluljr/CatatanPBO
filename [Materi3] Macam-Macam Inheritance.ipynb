{
 "cells": [
  {
   "cell_type": "markdown",
   "metadata": {},
   "source": [
    "# Macam-macam Inheritance"
   ]
  },
  {
   "cell_type": "markdown",
   "metadata": {},
   "source": [
    "Inheritance (Pewarisan Properti dan method dari induk class)\n",
    "memiliki beberapa type, diantaranya :\n",
    "\n",
    "1. Default\n",
    "2. Overriding\n",
    "3. Super\n",
    "4. Multiple"
   ]
  },
  {
   "cell_type": "markdown",
   "metadata": {},
   "source": [
    "### 1. Default"
   ]
  },
  {
   "cell_type": "markdown",
   "metadata": {},
   "source": [
    "Isinya sama dengan class induknya\n",
    "\n",
    "Contoh :"
   ]
  },
  {
   "cell_type": "code",
   "execution_count": 8,
   "metadata": {},
   "outputs": [
    {
     "name": "stdout",
     "output_type": "stream",
     "text": [
      "Ini adalah buah:  Apel\n"
     ]
    }
   ],
   "source": [
    "class buah_buahan:\n",
    "    def __init__(self,nama_buah):\n",
    "        self.nama_buah=nama_buah\n",
    "    def tampilkan(self):\n",
    "        print(\"Ini adalah buah: \",self.nama_buah)\n",
    "class apel(buah_buahan):\n",
    "    pass\n",
    "ap=apel(\"Apel\")\n",
    "ap.tampilkan()"
   ]
  },
  {
   "cell_type": "markdown",
   "metadata": {},
   "source": [
    "### 2. Overriding "
   ]
  },
  {
   "cell_type": "markdown",
   "metadata": {},
   "source": [
    "Anak kelas yang merubah properti / Method pada kelas induk"
   ]
  },
  {
   "cell_type": "markdown",
   "metadata": {},
   "source": [
    "contoh :"
   ]
  },
  {
   "cell_type": "code",
   "execution_count": 7,
   "metadata": {},
   "outputs": [
    {
     "name": "stdout",
     "output_type": "stream",
     "text": [
      "Method Induk :  IlulJr\n",
      "Overide :  NeileasJr\n"
     ]
    }
   ],
   "source": [
    "class induk:\n",
    "    def __init__(self,nama=\"IlulJr\"):\n",
    "        self.nama=nama\n",
    "    def tampilan(self):\n",
    "        print(\"Method Induk : \",self.nama)\n",
    "class anak(induk):\n",
    "    def __init__(self,nama=\"NeileasJr\"): # Overide properti\n",
    "        self.nama=nama\n",
    "    def tampilan(self):\n",
    "        print(\"Overide : \",self.nama)\n",
    "ind=induk()\n",
    "ind.tampilan()\n",
    "ov=anak()\n",
    "ov.tampilan()"
   ]
  },
  {
   "cell_type": "markdown",
   "metadata": {},
   "source": [
    "Contoh Program 2:"
   ]
  },
  {
   "cell_type": "code",
   "execution_count": 6,
   "metadata": {
    "scrolled": true
   },
   "outputs": [
    {
     "name": "stdout",
     "output_type": "stream",
     "text": [
      "-bentuk Segitiga:  Sembarang \n",
      "*Jumlah Segi:  3\n",
      "-bentuk Segitiga:  Sama Kaki \n",
      "*Jumlah Segi:  3\n",
      "-bentuk Segitiga:  Sama Sisi \n",
      "*Jumlah Segi:  3\n"
     ]
    }
   ],
   "source": [
    "class Segitiga:\n",
    "    def __init__(self,jumlah_segi=\"3\",bentuk_segitiga=\"Sembarang\"):\n",
    "        self.jumlah_segi=jumlah_segi\n",
    "        self.bentuk_segitiga=bentuk_segitiga\n",
    "    def tampil(self):\n",
    "        print(\"-bentuk Segitiga: \",self.bentuk_segitiga,\"\\n*Jumlah Segi: \",self.jumlah_segi)\n",
    "        \n",
    "class SegitigaSamaKaki(Segitiga):\n",
    "    def __init__(self,jumlah_segi=\"3\",bentuk_segitiga=\"Sama Kaki\"):\n",
    "        self.jumlah_segi=jumlah_segi\n",
    "        self.bentuk_segitiga=bentuk_segitiga\n",
    "        \n",
    "class SegitigaSamaSisi(Segitiga):\n",
    "    def __init__(self,jumlah_segi=\"3\",bentuk_segitiga=\"Sama Sisi\"):\n",
    "        self.jumlah_segi=jumlah_segi\n",
    "        self.bentuk_segitiga=bentuk_segitiga\n",
    "\n",
    "s=Segitiga()\n",
    "s.tampil()\n",
    "a=SegitigaSamaKaki()\n",
    "a.tampil()\n",
    "b=SegitigaSamaSisi()\n",
    "b.tampil()"
   ]
  },
  {
   "cell_type": "markdown",
   "metadata": {},
   "source": [
    "### 3. Super "
   ]
  },
  {
   "cell_type": "markdown",
   "metadata": {},
   "source": [
    "Digunakan Untuk Inisiasi properti class parrent pada class anak"
   ]
  },
  {
   "cell_type": "code",
   "execution_count": 5,
   "metadata": {},
   "outputs": [
    {
     "name": "stdout",
     "output_type": "stream",
     "text": [
      "Ikan\n",
      "fresh\n"
     ]
    }
   ],
   "source": [
    "class Fish:\n",
    "    def __init__(self,fish=\"Ikan\"):\n",
    "        self.fish=fish\n",
    "    def tampil_kan(self):\n",
    "        print(self.fish)\n",
    "        print(self.water)\n",
    "class trout(Fish):\n",
    "    def __init__(self,water=\"fresh\"):\n",
    "        self.water=water\n",
    "        Fish.__init__(self)\n",
    "        #Atau :\n",
    "        #super().__init__(self)\n",
    "a=trout()\n",
    "a.tampil_kan()"
   ]
  },
  {
   "cell_type": "markdown",
   "metadata": {},
   "source": [
    "### 4. Multiple"
   ]
  },
  {
   "cell_type": "markdown",
   "metadata": {},
   "source": [
    "Anak class yang memiliki 2 atau lebih Parent class"
   ]
  },
  {
   "cell_type": "code",
   "execution_count": 1,
   "metadata": {},
   "outputs": [
    {
     "name": "stdout",
     "output_type": "stream",
     "text": [
      "PBO :90\n",
      "DPW :80\n",
      "Nama:  IlulJr\n",
      "npm : 170411100075\n",
      "nilai_rata-rata :  85\n",
      "None None\n"
     ]
    }
   ],
   "source": [
    "class namaa:\n",
    "    def __init__(self):\n",
    "        self.nama=\"IlulJr\"\n",
    "    def tampil_nama(self):\n",
    "        print(\"Nama: \",self.nama)\n",
    "class matkul:\n",
    "    def __init__(self):\n",
    "        self.npm=\"170411100075\"\n",
    "        self.pbo=int(input(\"PBO :\"))\n",
    "        self.dpw=int(input(\"DPW :\"))\n",
    "    def tampil_np(self):\n",
    "        print(\"npm :\", self.npm)\n",
    "        print(\"nilai_rata-rata : \",(self.pbo+self.dpw)//2)\n",
    "class mahasiswa(namaa,matkul):\n",
    "    def __init__(self):\n",
    "        namaa.__init__(self)\n",
    "        matkul.__init__(self)\n",
    "    def tampil(self):\n",
    "        print(namaa.tampil_nama(self),\n",
    "             matkul.tampil_np(self))\n",
    "a=mahasiswa()\n",
    "a.tampil()"
   ]
  },
  {
   "cell_type": "markdown",
   "metadata": {},
   "source": [
    "## "
   ]
  }
 ],
 "metadata": {
  "kernelspec": {
   "display_name": "Python 3",
   "language": "python",
   "name": "python3"
  },
  "language_info": {
   "codemirror_mode": {
    "name": "ipython",
    "version": 3
   },
   "file_extension": ".py",
   "mimetype": "text/x-python",
   "name": "python",
   "nbconvert_exporter": "python",
   "pygments_lexer": "ipython3",
   "version": "3.6.5"
  }
 },
 "nbformat": 4,
 "nbformat_minor": 2
}
